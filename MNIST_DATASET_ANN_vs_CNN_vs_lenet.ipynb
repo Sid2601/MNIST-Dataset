{
  "nbformat": 4,
  "nbformat_minor": 0,
  "metadata": {
    "colab": {
      "name": "MNIST DATASET ANN vs CNN vs lenet.ipynb",
      "provenance": [],
      "authorship_tag": "ABX9TyNz/LIlpl2INv5lv2XXd8ak",
      "include_colab_link": true
    },
    "kernelspec": {
      "name": "python3",
      "display_name": "Python 3"
    },
    "accelerator": "GPU"
  },
  "cells": [
    {
      "cell_type": "markdown",
      "metadata": {
        "id": "view-in-github",
        "colab_type": "text"
      },
      "source": [
        "<a href=\"https://colab.research.google.com/github/Sid2601/MNIST-Dataset/blob/master/MNIST_DATASET_ANN_vs_CNN_vs_lenet.ipynb\" target=\"_parent\"><img src=\"https://colab.research.google.com/assets/colab-badge.svg\" alt=\"Open In Colab\"/></a>"
      ]
    },
    {
      "cell_type": "markdown",
      "metadata": {
        "id": "mu09NGWRZDTQ"
      },
      "source": [
        "#Importing Libraries"
      ]
    },
    {
      "cell_type": "code",
      "metadata": {
        "id": "vGOGLRerXfXu"
      },
      "source": [
        "import keras\n",
        "from keras.datasets import mnist\n",
        "import matplotlib.pyplot as plt\n",
        "from keras.models import Sequential\n",
        "from keras.layers import Conv2D,Dense,Flatten,MaxPooling2D,AveragePooling2D\n",
        "from keras.optimizers import Adam,SGD\n",
        "import numpy as np\n",
        "from keras.utils import to_categorical"
      ],
      "execution_count": null,
      "outputs": []
    },
    {
      "cell_type": "markdown",
      "metadata": {
        "id": "YRYhziDUZIzk"
      },
      "source": [
        "#Dataset Loading"
      ]
    },
    {
      "cell_type": "code",
      "metadata": {
        "id": "5BF4JXYtYlc9",
        "outputId": "7609046a-0348-40d6-a2b8-9066561b0cf1",
        "colab": {
          "base_uri": "https://localhost:8080/",
          "height": 52
        }
      },
      "source": [
        "(train_images,train_labels),(test_images,test_labels)=mnist.load_data()"
      ],
      "execution_count": null,
      "outputs": [
        {
          "output_type": "stream",
          "text": [
            "Downloading data from https://storage.googleapis.com/tensorflow/tf-keras-datasets/mnist.npz\n",
            "11493376/11490434 [==============================] - 0s 0us/step\n"
          ],
          "name": "stdout"
        }
      ]
    },
    {
      "cell_type": "markdown",
      "metadata": {
        "id": "q20NVmZLZMZ3"
      },
      "source": [
        "#Pre-process Dataset"
      ]
    },
    {
      "cell_type": "code",
      "metadata": {
        "id": "yxLkFP-VYqAY",
        "outputId": "75c18ded-d883-41ed-99ba-d62b27b9ac17",
        "colab": {
          "base_uri": "https://localhost:8080/",
          "height": 35
        }
      },
      "source": [
        "train_images, test_images=train_images/255.0, test_images/255.0\n",
        "train_labels = to_categorical(train_labels)\n",
        "test_labels = to_categorical(test_labels)\n",
        "print(train_images.shape)"
      ],
      "execution_count": null,
      "outputs": [
        {
          "output_type": "stream",
          "text": [
            "(60000, 28, 28)\n"
          ],
          "name": "stdout"
        }
      ]
    },
    {
      "cell_type": "code",
      "metadata": {
        "id": "pl7rSWybv0JP",
        "outputId": "6b08d568-690c-4be7-be92-9ad20e98e028",
        "colab": {
          "base_uri": "https://localhost:8080/",
          "height": 52
        }
      },
      "source": [
        "train_images = train_images.reshape((train_images.shape[0], 28, 28, 1))\n",
        "test_images = test_images.reshape((test_images.shape[0], 28, 28, 1))\n",
        "print(train_images.shape)\n",
        "print(test_images.shape)"
      ],
      "execution_count": null,
      "outputs": [
        {
          "output_type": "stream",
          "text": [
            "(60000, 28, 28, 1)\n",
            "(10000, 28, 28, 1)\n"
          ],
          "name": "stdout"
        }
      ]
    },
    {
      "cell_type": "markdown",
      "metadata": {
        "id": "1TqnkRv4ZAOU"
      },
      "source": [
        "#ANN Model"
      ]
    },
    {
      "cell_type": "code",
      "metadata": {
        "id": "09IAP7itBQvx"
      },
      "source": [
        "from keras import backend as k\n",
        "k.clear_session()"
      ],
      "execution_count": null,
      "outputs": []
    },
    {
      "cell_type": "code",
      "metadata": {
        "id": "_PZAk9w_Y_hx",
        "outputId": "4919c739-09b7-4a09-b6c9-c59b9bad711f",
        "colab": {
          "base_uri": "https://localhost:8080/",
          "height": 266
        }
      },
      "source": [
        "model = Sequential()\n",
        "model.add(Flatten(input_shape=(28,28,1)))\n",
        "model.add(Dense(64, activation='relu'))\n",
        "model.add(Dense(10, activation='softmax'))\n",
        "\n",
        "model.summary()"
      ],
      "execution_count": null,
      "outputs": [
        {
          "output_type": "stream",
          "text": [
            "Model: \"sequential\"\n",
            "_________________________________________________________________\n",
            "Layer (type)                 Output Shape              Param #   \n",
            "=================================================================\n",
            "flatten (Flatten)            (None, 784)               0         \n",
            "_________________________________________________________________\n",
            "dense (Dense)                (None, 64)                50240     \n",
            "_________________________________________________________________\n",
            "dense_1 (Dense)              (None, 10)                650       \n",
            "=================================================================\n",
            "Total params: 50,890\n",
            "Trainable params: 50,890\n",
            "Non-trainable params: 0\n",
            "_________________________________________________________________\n"
          ],
          "name": "stdout"
        }
      ]
    },
    {
      "cell_type": "code",
      "metadata": {
        "id": "xnxgJC7SwA3Z",
        "outputId": "5c117b84-70be-4ed1-8a22-b4cd6483fd99",
        "colab": {
          "base_uri": "https://localhost:8080/",
          "height": 924
        }
      },
      "source": [
        "model.compile(optimizer='adam', loss='categorical_crossentropy', metrics=['accuracy'])\n",
        "model.fit(train_images, train_labels, epochs=25)"
      ],
      "execution_count": null,
      "outputs": [
        {
          "output_type": "stream",
          "text": [
            "Epoch 1/25\n",
            "1875/1875 [==============================] - 5s 3ms/step - loss: 0.3014 - accuracy: 0.9157\n",
            "Epoch 2/25\n",
            "1875/1875 [==============================] - 5s 3ms/step - loss: 0.1506 - accuracy: 0.9558\n",
            "Epoch 3/25\n",
            "1875/1875 [==============================] - 5s 3ms/step - loss: 0.1086 - accuracy: 0.9676\n",
            "Epoch 4/25\n",
            "1875/1875 [==============================] - 5s 3ms/step - loss: 0.0859 - accuracy: 0.9740\n",
            "Epoch 5/25\n",
            "1875/1875 [==============================] - 5s 3ms/step - loss: 0.0704 - accuracy: 0.9789\n",
            "Epoch 6/25\n",
            "1875/1875 [==============================] - 5s 3ms/step - loss: 0.0590 - accuracy: 0.9821\n",
            "Epoch 7/25\n",
            "1875/1875 [==============================] - 5s 3ms/step - loss: 0.0500 - accuracy: 0.9847\n",
            "Epoch 8/25\n",
            "1875/1875 [==============================] - 5s 3ms/step - loss: 0.0433 - accuracy: 0.9869\n",
            "Epoch 9/25\n",
            "1875/1875 [==============================] - 5s 3ms/step - loss: 0.0369 - accuracy: 0.9890\n",
            "Epoch 10/25\n",
            "1875/1875 [==============================] - 5s 3ms/step - loss: 0.0316 - accuracy: 0.9906\n",
            "Epoch 11/25\n",
            "1875/1875 [==============================] - 5s 3ms/step - loss: 0.0268 - accuracy: 0.9916\n",
            "Epoch 12/25\n",
            "1875/1875 [==============================] - 5s 3ms/step - loss: 0.0248 - accuracy: 0.9919\n",
            "Epoch 13/25\n",
            "1875/1875 [==============================] - 5s 3ms/step - loss: 0.0210 - accuracy: 0.9935\n",
            "Epoch 14/25\n",
            "1875/1875 [==============================] - 5s 3ms/step - loss: 0.0190 - accuracy: 0.9940\n",
            "Epoch 15/25\n",
            "1875/1875 [==============================] - 5s 3ms/step - loss: 0.0162 - accuracy: 0.9954\n",
            "Epoch 16/25\n",
            "1875/1875 [==============================] - 5s 3ms/step - loss: 0.0145 - accuracy: 0.9959\n",
            "Epoch 17/25\n",
            "1875/1875 [==============================] - 5s 3ms/step - loss: 0.0124 - accuracy: 0.9964\n",
            "Epoch 18/25\n",
            "1875/1875 [==============================] - 5s 3ms/step - loss: 0.0115 - accuracy: 0.9966\n",
            "Epoch 19/25\n",
            "1875/1875 [==============================] - 5s 3ms/step - loss: 0.0121 - accuracy: 0.9965\n",
            "Epoch 20/25\n",
            "1875/1875 [==============================] - 5s 3ms/step - loss: 0.0088 - accuracy: 0.9974\n",
            "Epoch 21/25\n",
            "1875/1875 [==============================] - 5s 3ms/step - loss: 0.0081 - accuracy: 0.9977\n",
            "Epoch 22/25\n",
            "1875/1875 [==============================] - 5s 3ms/step - loss: 0.0082 - accuracy: 0.9975\n",
            "Epoch 23/25\n",
            "1875/1875 [==============================] - 5s 3ms/step - loss: 0.0074 - accuracy: 0.9980\n",
            "Epoch 24/25\n",
            "1875/1875 [==============================] - 5s 3ms/step - loss: 0.0065 - accuracy: 0.9980\n",
            "Epoch 25/25\n",
            "1875/1875 [==============================] - 5s 3ms/step - loss: 0.0068 - accuracy: 0.9981\n"
          ],
          "name": "stdout"
        },
        {
          "output_type": "execute_result",
          "data": {
            "text/plain": [
              "<tensorflow.python.keras.callbacks.History at 0x7f939ec0e828>"
            ]
          },
          "metadata": {
            "tags": []
          },
          "execution_count": 18
        }
      ]
    },
    {
      "cell_type": "code",
      "metadata": {
        "id": "ETWpwfwXxtsa",
        "outputId": "de5cdd66-b471-472c-ca71-6b471ea3f02a",
        "colab": {
          "base_uri": "https://localhost:8080/",
          "height": 52
        }
      },
      "source": [
        "model.evaluate(test_images,test_labels)"
      ],
      "execution_count": null,
      "outputs": [
        {
          "output_type": "stream",
          "text": [
            "313/313 [==============================] - 1s 3ms/step - loss: 0.1323 - accuracy: 0.9765\n"
          ],
          "name": "stdout"
        },
        {
          "output_type": "execute_result",
          "data": {
            "text/plain": [
              "[0.13227935135364532, 0.9764999747276306]"
            ]
          },
          "metadata": {
            "tags": []
          },
          "execution_count": 19
        }
      ]
    },
    {
      "cell_type": "markdown",
      "metadata": {
        "id": "jGU4QdeHxn0q"
      },
      "source": [
        "#CNN MODEL"
      ]
    },
    {
      "cell_type": "code",
      "metadata": {
        "id": "dw_e1eZh7hSU"
      },
      "source": [
        "from keras import backend as k\n",
        "k.clear_session()"
      ],
      "execution_count": null,
      "outputs": []
    },
    {
      "cell_type": "code",
      "metadata": {
        "id": "Q-gOWd3_Z6CC",
        "outputId": "0b219776-7960-4b78-cbbf-665b4c1f2570",
        "colab": {
          "base_uri": "https://localhost:8080/",
          "height": 444
        }
      },
      "source": [
        "model = Sequential()\n",
        "\n",
        "model.add(Conv2D(32,(3,3),activation='relu',input_shape=(28,28,1)))\n",
        "model.add(MaxPooling2D((2,2)))\n",
        "model.add(Conv2D(64,(3,3),activation='relu'))\n",
        "model.add(MaxPooling2D((2,2)))\n",
        "model.add(Conv2D(64,(3,3),activation='relu'))\n",
        "model.add(Flatten())\n",
        "model.add(Dense(64,activation='relu'))\n",
        "model.add(Dense(10,activation='softmax'))\n",
        "\n",
        "model.summary()\n"
      ],
      "execution_count": null,
      "outputs": [
        {
          "output_type": "stream",
          "text": [
            "Model: \"sequential\"\n",
            "_________________________________________________________________\n",
            "Layer (type)                 Output Shape              Param #   \n",
            "=================================================================\n",
            "conv2d (Conv2D)              (None, 26, 26, 32)        320       \n",
            "_________________________________________________________________\n",
            "max_pooling2d (MaxPooling2D) (None, 13, 13, 32)        0         \n",
            "_________________________________________________________________\n",
            "conv2d_1 (Conv2D)            (None, 11, 11, 64)        18496     \n",
            "_________________________________________________________________\n",
            "max_pooling2d_1 (MaxPooling2 (None, 5, 5, 64)          0         \n",
            "_________________________________________________________________\n",
            "conv2d_2 (Conv2D)            (None, 3, 3, 64)          36928     \n",
            "_________________________________________________________________\n",
            "flatten (Flatten)            (None, 576)               0         \n",
            "_________________________________________________________________\n",
            "dense (Dense)                (None, 64)                36928     \n",
            "_________________________________________________________________\n",
            "dense_1 (Dense)              (None, 10)                650       \n",
            "=================================================================\n",
            "Total params: 93,322\n",
            "Trainable params: 93,322\n",
            "Non-trainable params: 0\n",
            "_________________________________________________________________\n"
          ],
          "name": "stdout"
        }
      ]
    },
    {
      "cell_type": "code",
      "metadata": {
        "id": "OFEihUts7dWR",
        "outputId": "660bb24b-2942-48bf-c4f2-1114e67a8085",
        "colab": {
          "base_uri": "https://localhost:8080/",
          "height": 924
        }
      },
      "source": [
        "model.compile(optimizer='adam', loss='categorical_crossentropy', metrics=['accuracy'])\n",
        "model.fit(train_images, train_labels, epochs=25)\n"
      ],
      "execution_count": null,
      "outputs": [
        {
          "output_type": "stream",
          "text": [
            "Epoch 1/25\n",
            "1875/1875 [==============================] - 11s 6ms/step - loss: 0.1434 - accuracy: 0.9548\n",
            "Epoch 2/25\n",
            "1875/1875 [==============================] - 11s 6ms/step - loss: 0.0469 - accuracy: 0.9850\n",
            "Epoch 3/25\n",
            "1875/1875 [==============================] - 10s 6ms/step - loss: 0.0333 - accuracy: 0.9893\n",
            "Epoch 4/25\n",
            "1875/1875 [==============================] - 10s 6ms/step - loss: 0.0262 - accuracy: 0.9915\n",
            "Epoch 5/25\n",
            "1875/1875 [==============================] - 10s 6ms/step - loss: 0.0201 - accuracy: 0.9938\n",
            "Epoch 6/25\n",
            "1875/1875 [==============================] - 10s 6ms/step - loss: 0.0171 - accuracy: 0.9946\n",
            "Epoch 7/25\n",
            "1875/1875 [==============================] - 10s 6ms/step - loss: 0.0139 - accuracy: 0.9955\n",
            "Epoch 8/25\n",
            "1875/1875 [==============================] - 10s 6ms/step - loss: 0.0111 - accuracy: 0.9965\n",
            "Epoch 9/25\n",
            "1875/1875 [==============================] - 10s 6ms/step - loss: 0.0100 - accuracy: 0.9967\n",
            "Epoch 10/25\n",
            "1875/1875 [==============================] - 10s 6ms/step - loss: 0.0095 - accuracy: 0.9969\n",
            "Epoch 11/25\n",
            "1875/1875 [==============================] - 10s 6ms/step - loss: 0.0079 - accuracy: 0.9977\n",
            "Epoch 12/25\n",
            "1875/1875 [==============================] - 10s 6ms/step - loss: 0.0076 - accuracy: 0.9975\n",
            "Epoch 13/25\n",
            "1875/1875 [==============================] - 10s 6ms/step - loss: 0.0073 - accuracy: 0.9977\n",
            "Epoch 14/25\n",
            "1875/1875 [==============================] - 10s 6ms/step - loss: 0.0056 - accuracy: 0.9982\n",
            "Epoch 15/25\n",
            "1875/1875 [==============================] - 10s 6ms/step - loss: 0.0073 - accuracy: 0.9977\n",
            "Epoch 16/25\n",
            "1875/1875 [==============================] - 11s 6ms/step - loss: 0.0048 - accuracy: 0.9985\n",
            "Epoch 17/25\n",
            "1875/1875 [==============================] - 11s 6ms/step - loss: 0.0060 - accuracy: 0.9981\n",
            "Epoch 18/25\n",
            "1875/1875 [==============================] - 11s 6ms/step - loss: 0.0063 - accuracy: 0.9981\n",
            "Epoch 19/25\n",
            "1875/1875 [==============================] - 10s 6ms/step - loss: 0.0050 - accuracy: 0.9983\n",
            "Epoch 20/25\n",
            "1875/1875 [==============================] - 10s 6ms/step - loss: 0.0042 - accuracy: 0.9987\n",
            "Epoch 21/25\n",
            "1875/1875 [==============================] - 10s 6ms/step - loss: 0.0038 - accuracy: 0.9988\n",
            "Epoch 22/25\n",
            "1875/1875 [==============================] - 11s 6ms/step - loss: 0.0056 - accuracy: 0.9984\n",
            "Epoch 23/25\n",
            "1875/1875 [==============================] - 10s 6ms/step - loss: 0.0044 - accuracy: 0.9988\n",
            "Epoch 24/25\n",
            "1875/1875 [==============================] - 10s 6ms/step - loss: 0.0051 - accuracy: 0.9985\n",
            "Epoch 25/25\n",
            "1875/1875 [==============================] - 10s 6ms/step - loss: 0.0046 - accuracy: 0.9985\n"
          ],
          "name": "stdout"
        },
        {
          "output_type": "execute_result",
          "data": {
            "text/plain": [
              "<tensorflow.python.keras.callbacks.History at 0x7f939d25a5f8>"
            ]
          },
          "metadata": {
            "tags": []
          },
          "execution_count": 22
        }
      ]
    },
    {
      "cell_type": "code",
      "metadata": {
        "id": "hZUcIDqc7eMS",
        "outputId": "72031687-24e9-4caa-abf5-556faad90fb6",
        "colab": {
          "base_uri": "https://localhost:8080/",
          "height": 52
        }
      },
      "source": [
        "model.evaluate(test_images,test_labels)"
      ],
      "execution_count": null,
      "outputs": [
        {
          "output_type": "stream",
          "text": [
            "313/313 [==============================] - 1s 4ms/step - loss: 0.0573 - accuracy: 0.9917\n"
          ],
          "name": "stdout"
        },
        {
          "output_type": "execute_result",
          "data": {
            "text/plain": [
              "[0.057253386825323105, 0.9916999936103821]"
            ]
          },
          "metadata": {
            "tags": []
          },
          "execution_count": 23
        }
      ]
    },
    {
      "cell_type": "markdown",
      "metadata": {
        "id": "8NfvXsJyYg72"
      },
      "source": [
        "#Le-Net5 Model"
      ]
    },
    {
      "cell_type": "code",
      "metadata": {
        "id": "AM2pqget__Af"
      },
      "source": [
        "from keras import backend as k\n",
        "k.clear_session()"
      ],
      "execution_count": null,
      "outputs": []
    },
    {
      "cell_type": "code",
      "metadata": {
        "id": "eul0C5YrYgec",
        "outputId": "bdbd9bd1-5136-4c07-92ac-7cdf6844afe4",
        "colab": {
          "base_uri": "https://localhost:8080/",
          "height": 444
        }
      },
      "source": [
        "model = Sequential()\n",
        "model.add(Conv2D(filters=6,kernel_size=(5,5),strides=1,activation='relu',input_shape=(28,28,1)))\n",
        "model.add(AveragePooling2D(pool_size=(2,2),strides=2))\n",
        "model.add(Conv2D(filters=16,kernel_size=(5,5),strides=1,activation='relu'))\n",
        "model.add(AveragePooling2D(pool_size=(2,2),strides=2))\n",
        "model.add(Flatten())\n",
        "model.add(Dense( 120, activation='relu' ))\n",
        "model.add(Dense(  84, activation='relu' ))\n",
        "model.add(Dense(10,activation='softmax'))\n",
        "\n",
        "model.summary()"
      ],
      "execution_count": null,
      "outputs": [
        {
          "output_type": "stream",
          "text": [
            "Model: \"sequential\"\n",
            "_________________________________________________________________\n",
            "Layer (type)                 Output Shape              Param #   \n",
            "=================================================================\n",
            "conv2d (Conv2D)              (None, 24, 24, 6)         156       \n",
            "_________________________________________________________________\n",
            "average_pooling2d (AveragePo (None, 12, 12, 6)         0         \n",
            "_________________________________________________________________\n",
            "conv2d_1 (Conv2D)            (None, 8, 8, 16)          2416      \n",
            "_________________________________________________________________\n",
            "average_pooling2d_1 (Average (None, 4, 4, 16)          0         \n",
            "_________________________________________________________________\n",
            "flatten (Flatten)            (None, 256)               0         \n",
            "_________________________________________________________________\n",
            "dense (Dense)                (None, 120)               30840     \n",
            "_________________________________________________________________\n",
            "dense_1 (Dense)              (None, 84)                10164     \n",
            "_________________________________________________________________\n",
            "dense_2 (Dense)              (None, 10)                850       \n",
            "=================================================================\n",
            "Total params: 44,426\n",
            "Trainable params: 44,426\n",
            "Non-trainable params: 0\n",
            "_________________________________________________________________\n"
          ],
          "name": "stdout"
        }
      ]
    },
    {
      "cell_type": "code",
      "metadata": {
        "id": "e5qiUf7QyIbP",
        "outputId": "cf4f88aa-435b-4432-e3ad-749052abfb8d",
        "colab": {
          "base_uri": "https://localhost:8080/",
          "height": 924
        }
      },
      "source": [
        "model.compile(optimizer='adam', loss='categorical_crossentropy', metrics=['accuracy'])\n",
        "model.fit(train_images, train_labels, epochs=25)\n"
      ],
      "execution_count": null,
      "outputs": [
        {
          "output_type": "stream",
          "text": [
            "Epoch 1/25\n",
            "1875/1875 [==============================] - 8s 4ms/step - loss: 0.0150 - accuracy: 0.9952\n",
            "Epoch 2/25\n",
            "1875/1875 [==============================] - 8s 4ms/step - loss: 0.0131 - accuracy: 0.9959\n",
            "Epoch 3/25\n",
            "1875/1875 [==============================] - 8s 4ms/step - loss: 0.0117 - accuracy: 0.9961\n",
            "Epoch 4/25\n",
            "1875/1875 [==============================] - 8s 4ms/step - loss: 0.0113 - accuracy: 0.9962\n",
            "Epoch 5/25\n",
            "1875/1875 [==============================] - 8s 4ms/step - loss: 0.0105 - accuracy: 0.9965\n",
            "Epoch 6/25\n",
            "1875/1875 [==============================] - 8s 4ms/step - loss: 0.0087 - accuracy: 0.9975\n",
            "Epoch 7/25\n",
            "1875/1875 [==============================] - 8s 4ms/step - loss: 0.0081 - accuracy: 0.9973\n",
            "Epoch 8/25\n",
            "1875/1875 [==============================] - 8s 4ms/step - loss: 0.0078 - accuracy: 0.9974\n",
            "Epoch 9/25\n",
            "1875/1875 [==============================] - 8s 4ms/step - loss: 0.0076 - accuracy: 0.9976\n",
            "Epoch 10/25\n",
            "1875/1875 [==============================] - 8s 4ms/step - loss: 0.0076 - accuracy: 0.9976\n",
            "Epoch 11/25\n",
            "1875/1875 [==============================] - 8s 4ms/step - loss: 0.0077 - accuracy: 0.9978\n",
            "Epoch 12/25\n",
            "1875/1875 [==============================] - 8s 4ms/step - loss: 0.0064 - accuracy: 0.9982\n",
            "Epoch 13/25\n",
            "1875/1875 [==============================] - 8s 4ms/step - loss: 0.0070 - accuracy: 0.9977\n",
            "Epoch 14/25\n",
            "1875/1875 [==============================] - 8s 4ms/step - loss: 0.0062 - accuracy: 0.9981\n",
            "Epoch 15/25\n",
            "1875/1875 [==============================] - 8s 4ms/step - loss: 0.0063 - accuracy: 0.9980\n",
            "Epoch 16/25\n",
            "1875/1875 [==============================] - 8s 4ms/step - loss: 0.0055 - accuracy: 0.9982\n",
            "Epoch 17/25\n",
            "1875/1875 [==============================] - 8s 4ms/step - loss: 0.0054 - accuracy: 0.9984\n",
            "Epoch 18/25\n",
            "1875/1875 [==============================] - 8s 4ms/step - loss: 0.0043 - accuracy: 0.9985\n",
            "Epoch 19/25\n",
            "1875/1875 [==============================] - 8s 4ms/step - loss: 0.0058 - accuracy: 0.9982\n",
            "Epoch 20/25\n",
            "1875/1875 [==============================] - 8s 4ms/step - loss: 0.0052 - accuracy: 0.9985\n",
            "Epoch 21/25\n",
            "1875/1875 [==============================] - 8s 4ms/step - loss: 0.0039 - accuracy: 0.9986\n",
            "Epoch 22/25\n",
            "1875/1875 [==============================] - 8s 4ms/step - loss: 0.0046 - accuracy: 0.9986\n",
            "Epoch 23/25\n",
            "1875/1875 [==============================] - 8s 4ms/step - loss: 0.0048 - accuracy: 0.9985\n",
            "Epoch 24/25\n",
            "1875/1875 [==============================] - 8s 4ms/step - loss: 0.0037 - accuracy: 0.9987\n",
            "Epoch 25/25\n",
            "1875/1875 [==============================] - 8s 4ms/step - loss: 0.0043 - accuracy: 0.9987\n"
          ],
          "name": "stdout"
        },
        {
          "output_type": "execute_result",
          "data": {
            "text/plain": [
              "<tensorflow.python.keras.callbacks.History at 0x7f939c001e10>"
            ]
          },
          "metadata": {
            "tags": []
          },
          "execution_count": 27
        }
      ]
    },
    {
      "cell_type": "code",
      "metadata": {
        "id": "7-ib9nYC0HmR",
        "outputId": "88756f81-d7d0-4510-a2a1-ef46728b332c",
        "colab": {
          "base_uri": "https://localhost:8080/",
          "height": 52
        }
      },
      "source": [
        "model.evaluate(test_images,test_labels)"
      ],
      "execution_count": null,
      "outputs": [
        {
          "output_type": "stream",
          "text": [
            "313/313 [==============================] - 1s 3ms/step - loss: 0.0529 - accuracy: 0.9904\n"
          ],
          "name": "stdout"
        },
        {
          "output_type": "execute_result",
          "data": {
            "text/plain": [
              "[0.0528847761452198, 0.9904000163078308]"
            ]
          },
          "metadata": {
            "tags": []
          },
          "execution_count": 28
        }
      ]
    },
    {
      "cell_type": "code",
      "metadata": {
        "id": "kP6xKT5C0WFS"
      },
      "source": [
        ""
      ],
      "execution_count": null,
      "outputs": []
    }
  ]
}